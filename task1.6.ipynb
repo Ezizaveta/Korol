{
 "cells": [
  {
   "cell_type": "code",
   "execution_count": 3,
   "metadata": {},
   "outputs": [
    {
     "data": {
      "text/latex": [
       "\\[\\tag{${\\it \\%o}_{0}$}f\\left(x\\right):=\\left(x^2-1\\right)^{10}\\]"
      ],
      "text/plain": [
       "                                        2     10\n",
       "(%o0)                         f(x) := (x  - 1)"
      ],
      "text/x-maxima": [
       "f(x):=(x^2-1)^10"
      ]
     },
     "execution_count": 3,
     "metadata": {},
     "output_type": "execute_result"
    }
   ],
   "source": [
    "f(x):=(x^2-1)^10;"
   ]
  },
  {
   "cell_type": "code",
   "execution_count": 21,
   "metadata": {},
   "outputs": [
    {
     "data": {
      "text/latex": [
       "\\[\\tag{${\\it \\%o}_{12}$}g\\left(x\\right):=\\frac{914457600\\,\\left(x^2-1\\right)^5+45722880000\\,x^2\\,\\left(x^2-1\\right)^4+243855360000\\,x^4\\,\\left(x^2-1\\right)^3+292626432000\\,x^6\\,\\left(x^2-1\\right)^2+3715891200\\,x^{10}+83607552000\\,x^8\\,\\left(x^2-1\\right)}{3715891200}\\]"
      ],
      "text/plain": [
       "                            2     5                2   2     4\n",
       "(%o12) g(x) := (914457600 (x  - 1)  + 45722880000 x  (x  - 1)\n",
       "                 4   2     3                 6   2     2               10\n",
       " + 243855360000 x  (x  - 1)  + 292626432000 x  (x  - 1)  + 3715891200 x\n",
       "                8   2\n",
       " + 83607552000 x  (x  - 1))/3715891200"
      ],
      "text/x-maxima": [
       "g(x):=\n",
       "  (914457600*(x^2-1)^5+45722880000*x^2*(x^2-1)^4+243855360000*x^4*(x^2-1)^3\n",
       "                      +292626432000*x^6*(x^2-1)^2+3715891200*x^10\n",
       "                      +83607552000*x^8*(x^2-1))/3715891200"
      ]
     },
     "execution_count": 21,
     "metadata": {},
     "output_type": "execute_result"
    }
   ],
   "source": [
    "g(x):=''(1/(2^10*10!)*diff(f(x),x,10));"
   ]
  },
  {
   "cell_type": "code",
   "execution_count": 36,
   "metadata": {},
   "outputs": [
    {
     "data": {
      "text/latex": [
       "\\[\\tag{${\\it \\%o}_{27}$}\\mathbf{done}\\]"
      ],
      "text/plain": [
       "(%o27)                               done"
      ],
      "text/x-maxima": [
       "done"
      ]
     },
     "execution_count": 36,
     "metadata": {},
     "output_type": "execute_result"
    },
    {
     "name": "stdout",
     "output_type": "stream",
     "text": [
      "-1.0                  1.0\n",
      "-0.9 -0.26314561785585966\n",
      "-0.8  0.30052979559999954\n",
      "-0.7  0.08580579553164121\n",
      "-0.6 -0.24366274560000004\n",
      "-0.5 -0.18822860717773446\n",
      "-0.4  0.09683906439999966\n",
      "-0.3  0.25147634951601566\n",
      "-0.2  0.12907202560000036\n",
      "-0.1 -0.12212499738710904\n",
      "-0.0 -0.24609374999999997\n",
      " 0.1 -0.12212499738710962\n",
      " 0.2   0.1290720255999998\n",
      " 0.3  0.25147634951601555\n",
      " 0.4  0.09683906440000031\n",
      " 0.5 -0.18822860717773413\n",
      " 0.6 -0.24366274559999967\n",
      " 0.7  0.08580579553163943\n",
      " 0.8  0.30052979560000087\n",
      " 0.9  -0.2631456178558583\n",
      " 1.0   0.9999999999999877\n"
     ]
    }
   ],
   "source": [
    "for i: -1 thru 1 step 0.1 do (\n",
    "   printf(true, \"~4f~t~20f~%\", i, g(i))\n",
    ");"
   ]
  },
  {
   "cell_type": "code",
   "execution_count": null,
   "metadata": {},
   "outputs": [],
   "source": []
  }
 ],
 "metadata": {
  "kernelspec": {
   "display_name": "Maxima",
   "language": "maxima",
   "name": "maxima"
  },
  "language_info": {
   "codemirror_mode": "maxima",
   "file_extension": ".mac",
   "mimetype": "text/x-maxima",
   "name": "maxima",
   "pygments_lexer": "maxima",
   "version": "5.43.0"
  }
 },
 "nbformat": 4,
 "nbformat_minor": 4
}
