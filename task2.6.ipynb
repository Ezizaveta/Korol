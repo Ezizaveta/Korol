{
 "cells": [
  {
   "cell_type": "code",
   "execution_count": 1,
   "metadata": {},
   "outputs": [
    {
     "data": {
      "text/latex": [
       "\\[\\tag{${\\it \\%o}_{0}$}\\begin{pmatrix}2 & 1 & 1 \\\\ 0 & 3 & 2 \\\\ -1 & 2 & 5 \\\\ \\end{pmatrix}\\]"
      ],
      "text/plain": [
       "                                 [  2   1  1 ]\n",
       "                                 [           ]\n",
       "(%o0)                            [  0   3  2 ]\n",
       "                                 [           ]\n",
       "                                 [ - 1  2  5 ]"
      ],
      "text/x-maxima": [
       "matrix([2,1,1],[0,3,2],[-1,2,5])"
      ]
     },
     "execution_count": 1,
     "metadata": {},
     "output_type": "execute_result"
    }
   ],
   "source": [
    "a: matrix([2,1,1], [0,3,2], [-1,2,5]);"
   ]
  },
  {
   "cell_type": "code",
   "execution_count": 2,
   "metadata": {},
   "outputs": [
    {
     "data": {
      "text/latex": [
       "\\[\\tag{${\\it \\%o}_{1}$}\\begin{pmatrix}0 \\\\ 1 \\\\ 7 \\\\ \\end{pmatrix}\\]"
      ],
      "text/plain": [
       "                                     [ 0 ]\n",
       "                                     [   ]\n",
       "(%o1)                                [ 1 ]\n",
       "                                     [   ]\n",
       "                                     [ 7 ]"
      ],
      "text/x-maxima": [
       "matrix([0],[1],[7])"
      ]
     },
     "execution_count": 2,
     "metadata": {},
     "output_type": "execute_result"
    }
   ],
   "source": [
    "b: matrix([0], [1], [7]);"
   ]
  },
  {
   "cell_type": "code",
   "execution_count": 3,
   "metadata": {},
   "outputs": [
    {
     "data": {
      "text/latex": [
       "\\[\\tag{${\\it \\%o}_{2}$}23\\]"
      ],
      "text/plain": [
       "(%o2)                                 23"
      ],
      "text/x-maxima": [
       "23"
      ]
     },
     "execution_count": 3,
     "metadata": {},
     "output_type": "execute_result"
    }
   ],
   "source": [
    "determinant(a);"
   ]
  },
  {
   "cell_type": "code",
   "execution_count": 4,
   "metadata": {},
   "outputs": [
    {
     "data": {
      "text/latex": [
       "\\[\\tag{${\\it \\%o}_{3}$}\\begin{pmatrix}\\frac{11}{23} & -\\frac{3}{23} & -\\frac{1}{23} \\\\ -\\frac{2}{23} & \\frac{11}{23} & -\\frac{4}{23} \\\\ \\frac{3}{23} & -\\frac{5}{23} & \\frac{6}{23} \\\\ \\end{pmatrix}\\]"
      ],
      "text/plain": [
       "                             [  11     3     1  ]\n",
       "                             [  --   - --  - -- ]\n",
       "                             [  23     23    23 ]\n",
       "                             [                  ]\n",
       "                             [   2    11     4  ]\n",
       "(%o3)                        [ - --   --   - -- ]\n",
       "                             [   23   23     23 ]\n",
       "                             [                  ]\n",
       "                             [  3      5    6   ]\n",
       "                             [  --   - --   --  ]\n",
       "                             [  23     23   23  ]"
      ],
      "text/x-maxima": [
       "matrix([11/23,-3/23,-1/23],[-2/23,11/23,-4/23],[3/23,-5/23,6/23])"
      ]
     },
     "execution_count": 4,
     "metadata": {},
     "output_type": "execute_result"
    }
   ],
   "source": [
    "inv: invert(a);"
   ]
  },
  {
   "cell_type": "code",
   "execution_count": 6,
   "metadata": {},
   "outputs": [
    {
     "data": {
      "text/latex": [
       "\\[\\tag{${\\it \\%o}_{4}$}\\begin{pmatrix}-\\frac{10}{23} \\\\ -\\frac{17}{23} \\\\ \\frac{37}{23} \\\\ \\end{pmatrix}\\]"
      ],
      "text/plain": [
       "                                   [   10 ]\n",
       "                                   [ - -- ]\n",
       "                                   [   23 ]\n",
       "                                   [      ]\n",
       "                                   [   17 ]\n",
       "(%o4)                              [ - -- ]\n",
       "                                   [   23 ]\n",
       "                                   [      ]\n",
       "                                   [  37  ]\n",
       "                                   [  --  ]\n",
       "                                   [  23  ]"
      ],
      "text/x-maxima": [
       "matrix([-10/23],[-17/23],[37/23])"
      ]
     },
     "execution_count": 6,
     "metadata": {},
     "output_type": "execute_result"
    }
   ],
   "source": [
    "x: inv.b;"
   ]
  },
  {
   "cell_type": "code",
   "execution_count": 7,
   "metadata": {},
   "outputs": [
    {
     "data": {
      "text/latex": [
       "\\[\\tag{${\\it \\%o}_{5}$}\\begin{pmatrix}0 \\\\ 0 \\\\ 0 \\\\ \\end{pmatrix}\\]"
      ],
      "text/plain": [
       "                                     [ 0 ]\n",
       "                                     [   ]\n",
       "(%o5)                                [ 0 ]\n",
       "                                     [   ]\n",
       "                                     [ 0 ]"
      ],
      "text/x-maxima": [
       "matrix([0],[0],[0])"
      ]
     },
     "execution_count": 7,
     "metadata": {},
     "output_type": "execute_result"
    }
   ],
   "source": [
    "a.x-b;"
   ]
  },
  {
   "cell_type": "code",
   "execution_count": null,
   "metadata": {},
   "outputs": [],
   "source": []
  }
 ],
 "metadata": {
  "kernelspec": {
   "display_name": "Maxima",
   "language": "maxima",
   "name": "maxima"
  },
  "language_info": {
   "codemirror_mode": "maxima",
   "file_extension": ".mac",
   "mimetype": "text/x-maxima",
   "name": "maxima",
   "pygments_lexer": "maxima",
   "version": "5.43.0"
  }
 },
 "nbformat": 4,
 "nbformat_minor": 4
}
